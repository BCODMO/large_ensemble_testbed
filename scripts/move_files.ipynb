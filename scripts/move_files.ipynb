{
 "cells": [
  {
   "cell_type": "code",
   "execution_count": 2,
   "metadata": {},
   "outputs": [],
   "source": [
    "import os\n",
    "import shutil\n",
    "import numpy as np\n",
    "import xarray as xr\n",
    "import pandas as pd"
   ]
  },
  {
   "cell_type": "code",
   "execution_count": 3,
   "metadata": {},
   "outputs": [],
   "source": [
    "# Members list\n",
    "mpi_members = ['006', '009', '014', '020', '022',\n",
    "              '024', '025', '027', '038', '043',\n",
    "              '045', '046', '057', '060', '064',\n",
    "              '070', '075', '077', '078', '080',\n",
    "              '081', '083', '091', '095', '098',\n",
    "              '018','021', '028', '039', '041', '027', '064',]"
   ]
  },
  {
   "cell_type": "code",
   "execution_count": 4,
   "metadata": {},
   "outputs": [
    {
     "name": "stdout",
     "output_type": "stream",
     "text": [
      "006\n",
      "009\n",
      "014\n",
      "020\n",
      "022\n",
      "024\n",
      "025\n",
      "027\n",
      "038\n",
      "043\n",
      "045\n",
      "046\n",
      "057\n",
      "060\n",
      "064\n",
      "070\n",
      "075\n",
      "077\n",
      "078\n",
      "080\n",
      "081\n",
      "083\n",
      "091\n",
      "095\n",
      "098\n",
      "018\n",
      "021\n",
      "028\n",
      "039\n",
      "041\n",
      "027\n",
      "064\n"
     ]
    }
   ],
   "source": [
    "for mem in mpi_members:\n",
    "    print(mem)\n",
    "    \n",
    "    # define directories \n",
    "    in_dir = '/local/data/artemis/workspace/gloege/data/MPI_GE/siconc/processed'\n",
    "    out_dir = f'/local/data/artemis/workspace/gloege/SOCAT-LE/data/raw/large_ensembles/MPI/member_{mem}'\n",
    "    \n",
    "    # define files\n",
    "    ifile = f'{in_dir}/iceFrac_2D_mon_MPI{mem}_1x1_198201-201701.nc'\n",
    "    ofile = f'{out_dir}/iceFrac_2D_mon_MPI{mem}_1x1_198201-201701.nc'\n",
    "\n",
    "    # move files\n",
    "    shutil.copy(f'{ifile}', f'{ofile}')"
   ]
  },
  {
   "cell_type": "code",
   "execution_count": null,
   "metadata": {},
   "outputs": [],
   "source": []
  }
 ],
 "metadata": {
  "kernelspec": {
   "display_name": "tensorflow",
   "language": "python",
   "name": "tensorflow"
  },
  "language_info": {
   "codemirror_mode": {
    "name": "ipython",
    "version": 3
   },
   "file_extension": ".py",
   "mimetype": "text/x-python",
   "name": "python",
   "nbconvert_exporter": "python",
   "pygments_lexer": "ipython3",
   "version": "3.7.3"
  }
 },
 "nbformat": 4,
 "nbformat_minor": 2
}
