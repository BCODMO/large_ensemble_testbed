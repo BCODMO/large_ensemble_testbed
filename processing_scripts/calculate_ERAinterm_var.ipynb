{
 "cells": [
  {
   "cell_type": "markdown",
   "metadata": {},
   "source": [
    "# Anomalies and monthly mean from ERAinterm dataset\n",
    "This calculated the variance from 6hourly ERAinterim output. \n",
    "Wind speed was previously claculated from ERAineterm using a bash script here:\n",
    "`/local/data/artemis/workspace/gloege/data/ERAinterim/calculate_u10.sh`\n",
    "\n",
    "Here I calculate variance and mean for each month of 6 hourly output. \n",
    "Files are saved here: `/local/data/artemis/workspace/gloege/SOCAT-LE/data/clean/ERA_interim`"
   ]
  },
  {
   "cell_type": "code",
   "execution_count": 1,
   "metadata": {},
   "outputs": [],
   "source": [
    "import matplotlib.pyplot as plt\n",
    "import pandas as pd\n",
    "import xarray as xr\n",
    "import numpy as np\n",
    "import os"
   ]
  },
  {
   "cell_type": "code",
   "execution_count": 2,
   "metadata": {},
   "outputs": [],
   "source": [
    "data_dir = '/local/data/artemis/workspace/gloege/data/ERAinterim/ERAinterim_1x1'"
   ]
  },
  {
   "cell_type": "markdown",
   "metadata": {},
   "source": [
    "## wind speed anomalies"
   ]
  },
  {
   "cell_type": "code",
   "execution_count": null,
   "metadata": {},
   "outputs": [],
   "source": [
    "def ERAinterim_anom(data_dir=None, var_name='u10'):\n",
    "    '''\n",
    "    Calculate anomalies\n",
    "    \n",
    "    Inputs\n",
    "    =======\n",
    "    data_dir: directory where ERAinterm located \n",
    "              default: '/local/data/artemis/workspace/gloege/data/ERAinterim/ERAinterim_1x1', \n",
    "    var_name: variable name (default: 'u10')\n",
    "    exp: exponent (default: 2) \n",
    "    years: years to consider (default: [1982, 2017])\n",
    "    \n",
    "    Output\n",
    "    ========\n",
    "    ds_out : dataset with monthly averaged wind speed to power POW\n",
    "    \n",
    "    '''\n",
    "    # Initialize output dataset\n",
    "    ds_out_anom = xr.Dataset()\n",
    "\n",
    "    for year in tqdm(np.arange(1982,2017)):\n",
    "        #print(year)\n",
    "        # open data file\n",
    "        fl = f'{data_dir}/ERAinterim_1x1_{year}.nc'\n",
    "        ds = xr.open_dataset(fl)\n",
    "\n",
    "        # date vector\n",
    "        dates = pd.date_range(start=f'{year}-01-01T00:00:00.000000000', \n",
    "                              end=f'{year}-12-01T00:00:00.000000000',freq='MS')+ np.timedelta64(14, 'D')\n",
    "\n",
    "        # rename coordinates\n",
    "        ds = ds.rename({'wind_time':'time', 'xlon':'lon', 'ylat':'lat'})\n",
    "\n",
    "        # calculate monthly mean \n",
    "        ds_mean = ds[var_name].groupby('time.month').mean('time')\n",
    "\n",
    "        # calculate the anomalies for each month\n",
    "        ds_anom = ds[var_name].groupby('time.month') - ds_mean\n",
    "\n",
    "        # merge with output\n",
    "        ds_out = xr.merge([ds_out, ds_anom])\n",
    "    \n",
    "    return ds_out_anom"
   ]
  },
  {
   "cell_type": "markdown",
   "metadata": {},
   "source": [
    "# heading\n",
    "## heading2\n",
    "### heading 3\n",
    "\n",
    "asldfjlasdjflasjdflkjasdf\n",
    "\n",
    "$\\frac{1}{\\mu}$\n",
    "\n",
    "_italics_ and __bolded__ text"
   ]
  },
  {
   "cell_type": "markdown",
   "metadata": {},
   "source": [
    "## Monthly mean wind speed to power"
   ]
  },
  {
   "cell_type": "code",
   "execution_count": 3,
   "metadata": {},
   "outputs": [],
   "source": [
    "from tqdm import tqdm\n",
    "\n",
    "def wind_speed_pow(data_dir='/local/data/artemis/workspace/gloege/data/ERAinterim/ERAinterim_1x1', \n",
    "                   var_name='u10', \n",
    "                   power=2, \n",
    "                   years=[1982, 2017]):\n",
    "    '''\n",
    "    wind_speed_pow \n",
    "    Calculates the monthly mean of U^(power).\n",
    "    Where U is the ERAinterm wind speed and pow is some power. \n",
    "    This is necessary since gas transfer velocity is commonly \n",
    "    parameterized as wind speed to some power. \n",
    "    \n",
    "    Inputs\n",
    "    =======\n",
    "    data_dir: directory where ERAinterm located \n",
    "              default: '/local/data/artemis/workspace/gloege/data/ERAinterim/ERAinterim_1x1', \n",
    "    var_name: variable name (default: 'u10')\n",
    "    exp: exponent (default: 2) \n",
    "    years: years to consider (default: [1982, 2017])\n",
    "    \n",
    "    Output\n",
    "    ========\n",
    "    ds_out : dataset with monthly averaged wind speed to power POW\n",
    "    \n",
    "    '''\n",
    "    # Initialize output dataset\n",
    "    ds_out = xr.Dataset()\n",
    "\n",
    "    for year in tqdm(np.arange(years[0], years[1])):\n",
    "        #print(year)\n",
    "        # open data file\n",
    "        fl = f'{data_dir}/ERAinterim_1x1_{year}.nc'\n",
    "        ds = xr.open_dataset(fl)\n",
    "\n",
    "        # date vector\n",
    "        dates = pd.date_range(start=f'{year}-01-01T00:00:00.000000000', \n",
    "                              end=f'{year}-12-01T00:00:00.000000000',freq='MS')+ np.timedelta64(14, 'D')\n",
    "\n",
    "        # rename coordinates\n",
    "        ds = ds.rename({'wind_time':'time', 'xlon':'lon', 'ylat':'lat'})\n",
    "\n",
    "        # muliply by exponent and take a monthly average\n",
    "        ds_tmp = (ds[var_name]**power).groupby('time.month').mean('time')\n",
    "     \n",
    "        # Put date vector into dataset\n",
    "        ds_tmp['month'] = dates\n",
    "        ds_tmp = ds_tmp.rename({'month':'time'})\n",
    "    \n",
    "        # merge with output\n",
    "        ds_out = xr.merge([ds_out, ds_tmp])\n",
    "    \n",
    "    # Change attributes \n",
    "    ds_out['u10'].attrs = {'long_name':f'monthly mean of wind speed to the power {power}', \n",
    "                           'units':f'm^{pow}/s^{power}'}\n",
    "    \n",
    "    return ds_out"
   ]
  },
  {
   "cell_type": "code",
   "execution_count": 4,
   "metadata": {},
   "outputs": [
    {
     "name": "stderr",
     "output_type": "stream",
     "text": [
      "100%|██████████| 3/3 [00:13<00:00,  4.62s/it]\n"
     ]
    }
   ],
   "source": [
    "data_dir = '/local/data/artemis/workspace/gloege/data/ERAinterim/ERAinterim_1x1'\n",
    "pow=2\n",
    "ds_out = wind_speed_pow(data_dir=data_dir, exp=2, years=[1982, 1985])"
   ]
  },
  {
   "cell_type": "markdown",
   "metadata": {},
   "source": [
    "## Calculate Variance (make into a function)"
   ]
  },
  {
   "cell_type": "code",
   "execution_count": null,
   "metadata": {},
   "outputs": [],
   "source": [
    "# Initialize output dataset\n",
    "ds_out_var = xr.Dataset()\n",
    "ds_out_mean = xr.Dataset()\n",
    "\n",
    "for year in tqdm(np.arange(1982, 2017)):\n",
    "    #print(year)\n",
    "    # open data file\n",
    "    fl = f'{data_dir}/ERAinterim_1x1_{year}.nc'\n",
    "    ds = xr.open_dataset(fl)\n",
    "\n",
    "    # date vector\n",
    "    dates = pd.date_range(start=f'{year}-01-01T00:00:00.000000000', \n",
    "                          end=f'{year}-12-01T00:00:00.000000000',freq='MS')+ np.timedelta64(14, 'D')\n",
    "\n",
    "    # rename coordinates\n",
    "    ds = ds.rename({'wind_time':'time', 'xlon':'lon', 'ylat':'lat'})\n",
    "\n",
    "    # calculate variance \n",
    "    # this would need to be changed if not using U2 param \n",
    "    ds_var = ds['u10'].groupby('time.month').var('time')\n",
    "    ds_mean = ds['u10'].groupby('time.month').mean('time')\n",
    "    \n",
    "    # Put date vector into dataset\n",
    "    ds_var['month'] = dates\n",
    "    ds_var = ds_var.rename({'month':'time'})\n",
    "    \n",
    "    # Put date vector into dataset\n",
    "    ds_mean['month'] = dates\n",
    "    ds_mean = ds_mean.rename({'month':'time'})\n",
    "    \n",
    "    # merge with output\n",
    "    ds_out_var = xr.merge([ds_out_var, ds_var])\n",
    "    ds_out_mean = xr.merge([ds_out_mean, ds_mean])\n",
    "    \n",
    "    \n",
    "# Rename variables \n",
    "ds_out_var = ds_out_var.rename({'u10':'u10_var'})\n",
    "ds_out_mean = ds_out_mean.rename({'u10':'u10_mean'})\n",
    "\n",
    "# Group into one dataset\n",
    "ds_out = xr.merge([ds_out_var, ds_out_mean])\n",
    "\n",
    "ds_out['u10_var'].attrs = {'long_name':'variance from 6 hourly output over each month', \n",
    "                          'units':'m2/s2'}\n",
    "ds_out['u10_mean'].attrs = {'long_name':'mean from 6 hourly output over each month', \n",
    "                          'units':'m/s'}\n",
    "\n",
    "ds_out.attrs = {'source':'/local/data/artemis/workspace/rdussin/ERAinterim',\n",
    "               'contact':'R. Dussin downloaded ERAinterm, L. Gloege created this product'}\n",
    "\n",
    "# Save to netcdf\n",
    "dir_clean = '/local/data/artemis/workspace/gloege/SOCAT-LE/data/clean'\n",
    "ds_out.to_netcdf(f'{dir_clean}/ERA_interim/ERAinterim_1x1_u10-var_1982-2016.nc')"
   ]
  },
  {
   "cell_type": "markdown",
   "metadata": {},
   "source": [
    "# Test plots"
   ]
  },
  {
   "cell_type": "code",
   "execution_count": 74,
   "metadata": {},
   "outputs": [
    {
     "data": {
      "text/plain": [
       "[<matplotlib.lines.Line2D at 0x7f552035f7f0>]"
      ]
     },
     "execution_count": 74,
     "metadata": {},
     "output_type": "execute_result"
    },
    {
     "data": {
      "image/png": "[encoded data removed]",
      "text/plain": [
       "<Figure size 432x288 with 1 Axes>"
      ]
     },
     "metadata": {
      "needs_background": "light"
     },
     "output_type": "display_data"
    }
   ],
   "source": [
    "plt.plot(ds_out_mean['u10'][:,0,0]**2)"
   ]
  },
  {
   "cell_type": "code",
   "execution_count": null,
   "metadata": {},
   "outputs": [],
   "source": [
    "plt.plot(ds_out['u10'][:,0,0],'r')\n",
    "plt.plot(ds_out_mean['u10'][:,0,0]**2)"
   ]
  },
  {
   "cell_type": "code",
   "execution_count": null,
   "metadata": {},
   "outputs": [],
   "source": [
    "plt.plot(ds_anom2[:,0,0])\n",
    "plt.plot(ds_var[:,0,0])"
   ]
  },
  {
   "cell_type": "code",
   "execution_count": null,
   "metadata": {},
   "outputs": [],
   "source": [
    "# Initialize output dataset\n",
    "ds_out_anom = xr.Dataset()\n",
    "ds_out_mean = xr.Dataset()\n",
    "\n",
    "for year in tqdm(np.arange(1982,1985)):\n",
    "    #print(year)\n",
    "    # open data file\n",
    "    fl = f'{data_dir}/ERAinterim_1x1_{year}.nc'\n",
    "    ds = xr.open_dataset(fl)\n",
    "\n",
    "    # date vector\n",
    "    dates = pd.date_range(start=f'{year}-01-01T00:00:00.000000000', \n",
    "                          end=f'{year}-12-01T00:00:00.000000000',freq='MS')+ np.timedelta64(14, 'D')\n",
    "\n",
    "    # rename coordinates\n",
    "    ds = ds.rename({'wind_time':'time', 'xlon':'lon', 'ylat':'lat'})\n",
    "\n",
    "    # calculate monthly mean \n",
    "    ds_mean = ds['u10'].groupby('time.month').mean('time')\n",
    "\n",
    "    # calculate the anomalies for each month\n",
    "    ds_anom = ds['u10'].groupby('time.month') - ds_mean\n",
    "\n",
    "    # Put date vector into dataset\n",
    "    #ds_mean['month'] = dates\n",
    "    #ds_mean = ds_mean.rename({'month':'time'})\n",
    "\n",
    "    # merge with output\n",
    "    ds_out_anom = xr.merge([ds_out_anom, ds_anom])\n",
    "    #ds_out_mean = xr.merge([ds_out_mean, ds_mean])\n",
    "    a"
   ]
  }
 ],
 "metadata": {
  "kernelspec": {
   "display_name": "tensorflow",
   "language": "python",
   "name": "tensorflow"
  },
  "language_info": {
   "codemirror_mode": {
    "name": "ipython",
    "version": 3
   },
   "file_extension": ".py",
   "mimetype": "text/x-python",
   "name": "python",
   "nbconvert_exporter": "python",
   "pygments_lexer": "ipython3",
   "version": "3.7.6"
  }
 },
 "nbformat": 4,
 "nbformat_minor": 2
}
