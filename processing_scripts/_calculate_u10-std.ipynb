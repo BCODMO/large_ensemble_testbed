{
 "cells": [
  {
   "cell_type": "markdown",
   "metadata": {},
   "source": [
    "# Calculate wind speed standard deviation\n",
    "this notebook uses 3H ERA interm wind to calculate the wind speed standard deviation\n",
    "\n",
    "1. Load data 1982-2016 3H 1x1 data from `/local/data/artemis/workspace/gloege/ERAinterim`\n",
    "2. Calculate the monthly mean, and resample to 3H\n",
    "3. remove the mean, square it, and calculate the monthly mean"
   ]
  },
  {
   "cell_type": "code",
   "execution_count": 1,
   "metadata": {},
   "outputs": [],
   "source": [
    "import xarray as xr"
   ]
  },
  {
   "cell_type": "code",
   "execution_count": 2,
   "metadata": {},
   "outputs": [],
   "source": [
    "### 1. Raw data\n",
    "era_dir='/local/data/artemis/workspace/gloege/ERAinterim'\n",
    "#ds = xr.open_dataset(f'{era_dir}/ERAinterim_1x1_1982-2016.nc')\n",
    "ds = xr.open_dataset(f'{era_dir}/ERAinterim_1x1_1982-2016.nc',\n",
    "                     chunks={'wind_time':3196, 'xlon':-1, 'ylat':-1})"
   ]
  },
  {
   "cell_type": "code",
   "execution_count": 3,
   "metadata": {},
   "outputs": [],
   "source": [
    "### 2. Mean\n",
    "ds_mean = ds['u10'].resample(wind_time='1MS').mean('wind_time').resample(wind_time='3H').ffill()"
   ]
  },
  {
   "cell_type": "code",
   "execution_count": 4,
   "metadata": {},
   "outputs": [],
   "source": [
    "### 3. Wind speed variance\n",
    "ds_var = ((ds['u10'] - ds_mean)**2).resample(wind_time='1MS').mean('wind_time')"
   ]
  },
  {
   "cell_type": "code",
   "execution_count": 5,
   "metadata": {},
   "outputs": [],
   "source": [
    "ds_var.to_netcdf(f'/local/data/artemis/workspace/gloege/SOCAT-LE/data/clean/ERA_interim/ERAinterim_1x1_u10-var_1982-2016.nc')"
   ]
  }
 ],
 "metadata": {
  "kernelspec": {
   "display_name": "tensorflow",
   "language": "python",
   "name": "tensorflow"
  },
  "language_info": {
   "codemirror_mode": {
    "name": "ipython",
    "version": 3
   },
   "file_extension": ".py",
   "mimetype": "text/x-python",
   "name": "python",
   "nbconvert_exporter": "python",
   "pygments_lexer": "ipython3",
   "version": "3.7.6"
  }
 },
 "nbformat": 4,
 "nbformat_minor": 2
}
